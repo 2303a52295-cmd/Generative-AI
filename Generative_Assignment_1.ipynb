{
  "nbformat": 4,
  "nbformat_minor": 0,
  "metadata": {
    "colab": {
      "provenance": [],
      "authorship_tag": "ABX9TyNzGHcCZRAsCFOMfgbgW0ox",
      "include_colab_link": true
    },
    "kernelspec": {
      "name": "python3",
      "display_name": "Python 3"
    },
    "language_info": {
      "name": "python"
    }
  },
  "cells": [
    {
      "cell_type": "markdown",
      "metadata": {
        "id": "view-in-github",
        "colab_type": "text"
      },
      "source": [
        "<a href=\"https://colab.research.google.com/github/2303a52295-cmd/Generative-AI/blob/main/Generative_Assignment_1.ipynb\" target=\"_parent\"><img src=\"https://colab.research.google.com/assets/colab-badge.svg\" alt=\"Open In Colab\"/></a>"
      ]
    },
    {
      "cell_type": "markdown",
      "source": [
        "Question 2"
      ],
      "metadata": {
        "id": "lERsCQeHr1ZX"
      }
    },
    {
      "cell_type": "code",
      "execution_count": 1,
      "metadata": {
        "id": "LEVqg8MMqYw5"
      },
      "outputs": [],
      "source": [
        "from sklearn.metrics import accuracy_score, precision_score, recall_score, f1_score, classification_report\n",
        "import numpy as np\n"
      ]
    },
    {
      "cell_type": "code",
      "source": [
        "Y_actual = [0, 0, 1, 1, 2, 0, 0, 1, 0, 2, 0, 2, 1, 2, 2]\n",
        "Y_pred = [0, 1, 0, 2, 0, 2, 1, 2, 2, 2, 1, 0, 2, 2, 2]\n",
        "\n"
      ],
      "metadata": {
        "id": "x8Wv-aYbq7bo"
      },
      "execution_count": 2,
      "outputs": []
    },
    {
      "cell_type": "code",
      "source": [
        "def calculate_metrics(y_true, y_pred):\n",
        "    classes = set(y_true)\n",
        "    metrics = {\"accuracy\": None, \"precision\": {}, \"recall\": {}, \"f1_score\": {}}\n",
        "\n",
        "    correct_predictions = sum([1 for actual, pred in zip(y_true, y_pred) if actual == pred])\n",
        "    metrics[\"accuracy\"] = correct_predictions / len(y_true)\n",
        "\n",
        "    for c in classes:\n",
        "        tp = sum([1 for actual, pred in zip(y_true, y_pred) if actual == c and pred == c])\n",
        "        fp = sum([1 for actual, pred in zip(y_true, y_pred) if actual != c and pred == c])\n",
        "        fn = sum([1 for actual, pred in zip(y_true, y_pred) if actual == c and pred != c])\n",
        "\n",
        "        precision = tp / (tp + fp) if (tp + fp) > 0 else 0\n",
        "        recall = tp / (tp + fn) if (tp + fn) > 0 else 0\n",
        "        f1 = 2 * (precision * recall) / (precision + recall) if (precision + recall) > 0 else 0\n",
        "\n",
        "        metrics[\"precision\"][c] = precision\n",
        "        metrics[\"recall\"][c] = recall\n",
        "        metrics[\"f1_score\"][c] = f1\n",
        "\n",
        "    return metrics\n",
        "\n",
        "scratch_metrics = calculate_metrics(Y_actual, Y_pred)\n"
      ],
      "metadata": {
        "id": "9jpVkVfBq9TL"
      },
      "execution_count": 3,
      "outputs": []
    },
    {
      "cell_type": "code",
      "source": [
        "accuracy = accuracy_score(Y_actual, Y_pred)\n",
        "precision = precision_score(Y_actual, Y_pred, average=None, zero_division=0)\n",
        "recall = recall_score(Y_actual, Y_pred, average=None, zero_division=0)\n",
        "f1 = f1_score(Y_actual, Y_pred, average=None, zero_division=0)\n",
        "\n"
      ],
      "metadata": {
        "id": "XQn-FJDLrF7J"
      },
      "execution_count": 4,
      "outputs": []
    },
    {
      "cell_type": "code",
      "source": [
        "print(\"Metrics calculated from scratch:\")\n",
        "print(f\"Accuracy: {scratch_metrics['accuracy']}\")\n",
        "print(f\"Precision: {scratch_metrics['precision']}\")\n",
        "print(f\"Recall: {scratch_metrics['recall']}\")\n",
        "print(f\"F1 Score: {scratch_metrics['f1_score']}\")\n",
        "print(\"\\nMetrics calculated using libraries:\")\n",
        "print(f\"Accuracy: {accuracy}\")\n",
        "print(f\"Precision: {dict(enumerate(precision))}\")\n",
        "print(f\"Recall: {dict(enumerate(recall))}\")\n",
        "print(f\"F1 Score: {dict(enumerate(f1))}\")"
      ],
      "metadata": {
        "colab": {
          "base_uri": "https://localhost:8080/"
        },
        "id": "NK5QNHSTrK83",
        "outputId": "5b4bd457-e3a0-4920-abb1-bc9146f9c3c8"
      },
      "execution_count": 7,
      "outputs": [
        {
          "output_type": "stream",
          "name": "stdout",
          "text": [
            "Metrics calculated from scratch:\n",
            "Accuracy: 0.26666666666666666\n",
            "Precision: {0: 0.25, 1: 0.0, 2: 0.375}\n",
            "Recall: {0: 0.16666666666666666, 1: 0.0, 2: 0.6}\n",
            "F1 Score: {0: 0.2, 1: 0, 2: 0.4615384615384615}\n",
            "\n",
            "Metrics calculated using libraries:\n",
            "Accuracy: 0.26666666666666666\n",
            "Precision: {0: 0.25, 1: 0.0, 2: 0.375}\n",
            "Recall: {0: 0.16666666666666666, 1: 0.0, 2: 0.6}\n",
            "F1 Score: {0: 0.2, 1: 0.0, 2: 0.46153846153846156}\n"
          ]
        }
      ]
    },
    {
      "cell_type": "markdown",
      "source": [
        "Question 1"
      ],
      "metadata": {
        "id": "36rW-IIHsIJ3"
      }
    },
    {
      "cell_type": "code",
      "source": [
        "import numpy as np\n",
        "from sklearn.metrics import mean_absolute_error, mean_squared_error, r2_score\n"
      ],
      "metadata": {
        "id": "TgNQLf7HsH3H"
      },
      "execution_count": 8,
      "outputs": []
    },
    {
      "cell_type": "code",
      "source": [
        "Y_actual = np.array([20, 30, 40, 50, 60])\n",
        "Y_pred = np.array([20.5, 30.3, 40.2, 50.6, 60.7])\n"
      ],
      "metadata": {
        "id": "sFxSfLh0sTWx"
      },
      "execution_count": 9,
      "outputs": []
    },
    {
      "cell_type": "code",
      "source": [
        "def mean_absolute_error_custom(y_actual, y_pred):\n",
        "    return np.mean(np.abs(y_actual - y_pred))\n",
        "\n",
        "def mean_squared_error_custom(y_actual, y_pred):\n",
        "    return np.mean((y_actual - y_pred) ** 2)\n",
        "\n",
        "def r2_score_custom(y_actual, y_pred):\n",
        "    ss_total = np.sum((y_actual - np.mean(y_actual)) ** 2)\n",
        "    ss_residual = np.sum((y_actual - y_pred) ** 2)\n",
        "    return 1 - (ss_residual / ss_total)\n"
      ],
      "metadata": {
        "id": "rgsK6CmbsVAC"
      },
      "execution_count": 10,
      "outputs": []
    },
    {
      "cell_type": "code",
      "source": [
        "mae_custom = mean_absolute_error_custom(Y_actual, Y_pred)\n",
        "mse_custom = mean_squared_error_custom(Y_actual, Y_pred)\n",
        "r2_custom = r2_score_custom(Y_actual, Y_pred)\n",
        "print(f\"Custom Mean Absolute Error (MAE): {mae_custom}\")\n",
        "print(f\"Custom Mean Squared Error (MSE): {mse_custom}\")\n",
        "print(f\"Custom R² Score: {r2_custom}\")\n",
        "\n",
        "\n"
      ],
      "metadata": {
        "colab": {
          "base_uri": "https://localhost:8080/"
        },
        "id": "V4hsMsX0sVTz",
        "outputId": "a96c188b-afeb-4615-8660-5df92199b50b"
      },
      "execution_count": 12,
      "outputs": [
        {
          "output_type": "stream",
          "name": "stdout",
          "text": [
            "Custom Mean Absolute Error (MAE): 0.4600000000000016\n",
            "Custom Mean Squared Error (MSE): 0.24600000000000147\n",
            "Custom R² Score: 0.99877\n"
          ]
        }
      ]
    },
    {
      "cell_type": "code",
      "source": [
        "mae_library = mean_absolute_error(Y_actual, Y_pred)\n",
        "mse_library = mean_squared_error(Y_actual, Y_pred)\n",
        "r2_library = r2_score(Y_actual, Y_pred)\n",
        "\n",
        "print(\"\\nLibrary results using scikit-learn:\")\n",
        "print(f\"Mean Absolute Error (MAE): {mae_library}\")\n",
        "print(f\"Mean Squared Error (MSE): {mse_library}\")\n",
        "print(f\"R² Score: {r2_library}\")"
      ],
      "metadata": {
        "colab": {
          "base_uri": "https://localhost:8080/"
        },
        "id": "7MnVJSOksl4Q",
        "outputId": "4170f489-6e10-4824-f552-fe4edebb2057"
      },
      "execution_count": 13,
      "outputs": [
        {
          "output_type": "stream",
          "name": "stdout",
          "text": [
            "\n",
            "Library results using scikit-learn:\n",
            "Mean Absolute Error (MAE): 0.4600000000000016\n",
            "Mean Squared Error (MSE): 0.24600000000000147\n",
            "R² Score: 0.99877\n"
          ]
        }
      ]
    }
  ]
}